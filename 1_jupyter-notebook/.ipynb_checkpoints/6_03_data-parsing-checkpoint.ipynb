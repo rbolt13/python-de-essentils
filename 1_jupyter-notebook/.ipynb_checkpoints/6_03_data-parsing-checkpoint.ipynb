{
 "cells": [
  {
   "cell_type": "markdown",
   "id": "7fde7cae",
   "metadata": {},
   "source": [
    "# Chapter 6 - Data Sourcing via Web\n",
    "## Segment 3 - Data parsing"
   ]
  },
  {
   "cell_type": "code",
   "execution_count": 2,
   "id": "807a5e66",
   "metadata": {},
   "outputs": [],
   "source": [
    "from bs4 import BeautifulSoup\n",
    "\n",
    "import urllib\n",
    "import urllib.request\n",
    "import re"
   ]
  },
  {
   "cell_type": "code",
   "execution_count": 4,
   "id": "87fe6217",
   "metadata": {},
   "outputs": [],
   "source": [
    "with urllib.request.urlopen('https://raw.githubusercontent.com/BigDataGal/Data-Mania-Demos/master/IoT-2018.html') as response:\n",
    "    html = response.read()"
   ]
  },
  {
   "cell_type": "code",
   "execution_count": null,
   "id": "dade0e75",
   "metadata": {},
   "outputs": [],
   "source": []
  },
  {
   "cell_type": "markdown",
   "id": "d03bbbf1",
   "metadata": {},
   "source": [
    "## Parsing your data"
   ]
  },
  {
   "cell_type": "code",
   "execution_count": null,
   "id": "6eafa62e",
   "metadata": {},
   "outputs": [],
   "source": []
  },
  {
   "cell_type": "markdown",
   "id": "4f79f2a6",
   "metadata": {},
   "source": [
    "## Getting data from a parse tree"
   ]
  },
  {
   "cell_type": "code",
   "execution_count": null,
   "id": "522e273f",
   "metadata": {},
   "outputs": [],
   "source": []
  },
  {
   "cell_type": "markdown",
   "id": "dc36e3fc",
   "metadata": {},
   "source": [
    "## Searching and retrieving data from a parse tree"
   ]
  },
  {
   "cell_type": "code",
   "execution_count": null,
   "id": "49d6c30a",
   "metadata": {},
   "outputs": [],
   "source": []
  },
  {
   "cell_type": "markdown",
   "id": "4f31bfec",
   "metadata": {},
   "source": [
    "### Retrieving tags by filtering with keyword arguments"
   ]
  },
  {
   "cell_type": "code",
   "execution_count": null,
   "id": "b786d65e",
   "metadata": {},
   "outputs": [],
   "source": []
  }
 ],
 "metadata": {
  "kernelspec": {
   "display_name": "Python 3 (ipykernel)",
   "language": "python",
   "name": "python3"
  },
  "language_info": {
   "codemirror_mode": {
    "name": "ipython",
    "version": 3
   },
   "file_extension": ".py",
   "mimetype": "text/x-python",
   "name": "python",
   "nbconvert_exporter": "python",
   "pygments_lexer": "ipython3",
   "version": "3.9.7"
  }
 },
 "nbformat": 4,
 "nbformat_minor": 5
}
