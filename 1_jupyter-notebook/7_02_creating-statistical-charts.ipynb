{
 "cells": [
  {
   "cell_type": "markdown",
   "id": "cdd9eb8c",
   "metadata": {},
   "source": [
    "# Chapter 7 - Collaborative Analytics with Plotly\n",
    "## Segment 2 - Creating Statistical charts\n",
    "### Setting up to use Plotly within Jupyter"
   ]
  },
  {
   "cell_type": "code",
   "execution_count": 1,
   "id": "a35aaac9",
   "metadata": {},
   "outputs": [],
   "source": [
    "import numpy as np\n",
    "import pandas as pd\n",
    "\n",
    "import cufflinks as cf\n",
    "\n",
    "from chart_studio import plotly\n",
    "import chart_studio.plotly as py\n",
    "import chart_studio.plotly.tools as tls\n",
    "import chart_studio.plotly.graph_obj as go\n",
    "\n",
    "import sklearn \n",
    "from sklearn.preprocessing import StandardScaler"
   ]
  },
  {
   "cell_type": "code",
   "execution_count": null,
   "id": "93ac99a9",
   "metadata": {},
   "outputs": [],
   "source": [
    "tls.set_credentials_file(username='', api_key='')"
   ]
  },
  {
   "cell_type": "markdown",
   "id": "4825f0a2",
   "metadata": {},
   "source": [
    "## Creating Histograms\n",
    "### Make a histogram from a pandas Series object "
   ]
  },
  {
   "cell_type": "code",
   "execution_count": 2,
   "id": "e2e748f4",
   "metadata": {},
   "outputs": [],
   "source": [
    "address = '~/Desktop/2022/python-ds-essentials/2_data/mtcars.csv'\n",
    "\n",
    "cars = pd.read_csv(address)\n",
    "cars.columns = ['car_names', 'mpg', 'cyl', 'disp', 'hp', 'drat', 'wt', 'qsec', 'vs', 'am', 'gear', 'carb']\n",
    "\n",
    "mpg = cars.mpg\n",
    "\n",
    "# simple histogram\n",
    "mpg.iplot(kind='histogram', filename='simple-histogram-chart')"
   ]
  },
  {
   "cell_type": "code",
   "execution_count": null,
   "id": "741067be",
   "metadata": {},
   "outputs": [],
   "source": [
    "# multiple histogram chart plotted ontop of each other \n",
    "cars_subset = cars[['mpg', 'disp', 'hp']]\n",
    "\n",
    "cars_data_std = StandardScaler().fit_transform(cars_subset)\n",
    "\n",
    "cars_select = pd.DataFrame(cars_data_std)\n",
    "cars_select.columns = ['mpg', 'disp', 'hp']\n",
    "\n",
    "cars_select.iplot(kind='histogram', filename='multiple-histogram-chart')"
   ]
  },
  {
   "cell_type": "code",
   "execution_count": null,
   "id": "e0abbdae",
   "metadata": {},
   "outputs": [],
   "source": [
    "# subplot histogram \n",
    "cars_select.iplot(kind='histogram', subplots=True, filename='subplot-histogram-chart')"
   ]
  },
  {
   "cell_type": "code",
   "execution_count": null,
   "id": "a3e032dd",
   "metadata": {},
   "outputs": [],
   "source": [
    "# stacked histograms \n",
    "cars_select.iplot(kind='histogram', subplots=True, shape=(3,1), filename='subplot-histogram-chart')"
   ]
  },
  {
   "cell_type": "markdown",
   "id": "00604474",
   "metadata": {},
   "source": [
    "## Creating box plots"
   ]
  },
  {
   "cell_type": "code",
   "execution_count": null,
   "id": "3e7ee113",
   "metadata": {},
   "outputs": [],
   "source": [
    "cars_select.iplot(kind='box', filename='box-plots')"
   ]
  },
  {
   "cell_type": "markdown",
   "id": "e0eefbc8",
   "metadata": {},
   "source": [
    "## Creating Scatter plots"
   ]
  },
  {
   "cell_type": "code",
   "execution_count": 6,
   "id": "0f370525",
   "metadata": {},
   "outputs": [
    {
     "ename": "NameError",
     "evalue": "name 'cars_select' is not defined",
     "output_type": "error",
     "traceback": [
      "\u001b[0;31m---------------------------------------------------------------------------\u001b[0m",
      "\u001b[0;31mNameError\u001b[0m                                 Traceback (most recent call last)",
      "\u001b[0;32m/var/folders/90/4rtssdj16dl23f_f66qj0t3w0000gn/T/ipykernel_6677/865506675.py\u001b[0m in \u001b[0;36m<module>\u001b[0;34m\u001b[0m\n\u001b[1;32m      1\u001b[0m \u001b[0;31m# defalut setting would fill in lines between point, so markers stops that\u001b[0m\u001b[0;34m\u001b[0m\u001b[0;34m\u001b[0m\u001b[0m\n\u001b[0;32m----> 2\u001b[0;31m fig = {'data':[{'x': cars_select.mpg, 'y':cars_select.disp, 'mode':'markers', 'name':'mpg'},\n\u001b[0m\u001b[1;32m      3\u001b[0m               {'x': cars_select.hp, 'y':cars_select.disp, 'mode':'markers', 'name':'hp'}],\n\u001b[1;32m      4\u001b[0m       'layout': {'xaxis':{'title':''}, 'yaxis':{'title':'Standardized Displacement'}}}\n",
      "\u001b[0;31mNameError\u001b[0m: name 'cars_select' is not defined"
     ]
    }
   ],
   "source": [
    "# defalut setting would fill in lines between point, so markers stops that\n",
    "fig = {'data':[{'x': cars_select.mpg, 'y':cars_select.disp, 'mode':'markers', 'name':'mpg'},\n",
    "              {'x': cars_select.hp, 'y':cars_select.disp, 'mode':'markers', 'name':'hp'}],\n",
    "      'layout': {'xaxis':{'title':''}, 'yaxis':{'title':'Standardized Displacement'}}}\n",
    "py.iplot(fig, filename='grouped-scatter-plot')"
   ]
  }
 ],
 "metadata": {
  "kernelspec": {
   "display_name": "Python 3 (ipykernel)",
   "language": "python",
   "name": "python3"
  },
  "language_info": {
   "codemirror_mode": {
    "name": "ipython",
    "version": 3
   },
   "file_extension": ".py",
   "mimetype": "text/x-python",
   "name": "python",
   "nbconvert_exporter": "python",
   "pygments_lexer": "ipython3",
   "version": "3.9.7"
  }
 },
 "nbformat": 4,
 "nbformat_minor": 5
}
