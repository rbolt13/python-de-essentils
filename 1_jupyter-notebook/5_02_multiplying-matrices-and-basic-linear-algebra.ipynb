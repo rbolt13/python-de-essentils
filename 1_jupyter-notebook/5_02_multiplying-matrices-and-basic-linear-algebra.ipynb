{
 "cells": [
  {
   "cell_type": "markdown",
   "id": "48a1acff",
   "metadata": {},
   "source": [
    "# Chapter 5 - Basic Math and Statistics\n",
    "## Segment 2 - Multiplying matrices and basic linear algebra"
   ]
  },
  {
   "cell_type": "code",
   "execution_count": 1,
   "id": "0d3fbf0d",
   "metadata": {},
   "outputs": [],
   "source": [
    "import numpy as np\n",
    "from numpy.random import randn"
   ]
  },
  {
   "cell_type": "code",
   "execution_count": 2,
   "id": "3599afdf",
   "metadata": {},
   "outputs": [],
   "source": [
    "# set decimals returned to 2\n",
    "np.set_printoptions(precision = 2)"
   ]
  },
  {
   "cell_type": "markdown",
   "id": "8c2bc342",
   "metadata": {},
   "source": [
    "## Multiplying matricies and basic linear algebra"
   ]
  },
  {
   "cell_type": "code",
   "execution_count": 3,
   "id": "030aac3c",
   "metadata": {},
   "outputs": [
    {
     "data": {
      "text/plain": [
       "array([[ 2,  3,  6],\n",
       "       [ 1,  3,  5],\n",
       "       [10, 20, 30]])"
      ]
     },
     "execution_count": 3,
     "metadata": {},
     "output_type": "execute_result"
    }
   ],
   "source": [
    "# create matrices\n",
    "aa = np.array([[2,3,6],[1,3,5],[10,20,30]])\n",
    "aa"
   ]
  },
  {
   "cell_type": "code",
   "execution_count": 4,
   "id": "0255b25b",
   "metadata": {},
   "outputs": [
    {
     "data": {
      "text/plain": [
       "array([[0, 1, 2],\n",
       "       [3, 4, 5],\n",
       "       [6, 7, 8]])"
      ]
     },
     "execution_count": 4,
     "metadata": {},
     "output_type": "execute_result"
    }
   ],
   "source": [
    "bb = np.array([[0,1,2],[3,4,5],[6,7,8]])\n",
    "bb"
   ]
  },
  {
   "cell_type": "code",
   "execution_count": 5,
   "id": "52a88887",
   "metadata": {},
   "outputs": [
    {
     "data": {
      "text/plain": [
       "array([[  0,   3,  12],\n",
       "       [  3,  12,  25],\n",
       "       [ 60, 140, 240]])"
      ]
     },
     "execution_count": 5,
     "metadata": {},
     "output_type": "execute_result"
    }
   ],
   "source": [
    "# multiply aa by bb\n",
    "aa*bb"
   ]
  },
  {
   "cell_type": "code",
   "execution_count": 6,
   "id": "8a917e6d",
   "metadata": {},
   "outputs": [
    {
     "data": {
      "text/plain": [
       "array([[ 45,  56,  67],\n",
       "       [ 39,  48,  57],\n",
       "       [240, 300, 360]])"
      ]
     },
     "execution_count": 6,
     "metadata": {},
     "output_type": "execute_result"
    }
   ],
   "source": [
    "## dot product of aa and bb\n",
    "np.dot(aa,bb)"
   ]
  }
 ],
 "metadata": {
  "kernelspec": {
   "display_name": "Python 3 (ipykernel)",
   "language": "python",
   "name": "python3"
  },
  "language_info": {
   "codemirror_mode": {
    "name": "ipython",
    "version": 3
   },
   "file_extension": ".py",
   "mimetype": "text/x-python",
   "name": "python",
   "nbconvert_exporter": "python",
   "pygments_lexer": "ipython3",
   "version": "3.9.7"
  }
 },
 "nbformat": 4,
 "nbformat_minor": 5
}
