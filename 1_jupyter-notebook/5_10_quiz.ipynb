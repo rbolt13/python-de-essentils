{
 "cells": [
  {
   "cell_type": "markdown",
   "id": "03f5d7bd",
   "metadata": {},
   "source": [
    "# Chapter 5 - Basic Math and Statistics\n",
    "## Segment 10 - Quiz"
   ]
  },
  {
   "cell_type": "code",
   "execution_count": 1,
   "id": "4a4ff415",
   "metadata": {},
   "outputs": [],
   "source": [
    "import pandas as pd\n",
    "import numpy as np"
   ]
  },
  {
   "cell_type": "code",
   "execution_count": 2,
   "id": "b8fe9cb7",
   "metadata": {},
   "outputs": [],
   "source": [
    "# address of data \n",
    "address = '~/Desktop/2022/python-ds-essentials/2_data/mtcars.csv'\n",
    "# call address\n",
    "cars = pd.read_csv(address)\n",
    "# name columns\n",
    "cars.columns = ['car_names', 'mpg', 'cyl', 'disp', 'hp', 'drat', 'wt', 'qsec', 'vs', 'am', 'gear', 'carb']"
   ]
  },
  {
   "cell_type": "code",
   "execution_count": 6,
   "id": "f16a38ad",
   "metadata": {},
   "outputs": [
    {
     "data": {
      "text/plain": [
       "17.848750000000003"
      ]
     },
     "execution_count": 6,
     "metadata": {},
     "output_type": "execute_result"
    }
   ],
   "source": [
    "cars['qsec'].mean()"
   ]
  },
  {
   "cell_type": "code",
   "execution_count": 7,
   "id": "44071296",
   "metadata": {},
   "outputs": [
    {
     "data": {
      "text/plain": [
       "array([[ 5, 24],\n",
       "       [14, 36]])"
      ]
     },
     "execution_count": 7,
     "metadata": {},
     "output_type": "execute_result"
    }
   ],
   "source": [
    "a=np.array([[1,3],[2,4]])\n",
    "b=np.array(([5,8],[7,9]))\n",
    "a*b"
   ]
  },
  {
   "cell_type": "code",
   "execution_count": 8,
   "id": "a0df75df",
   "metadata": {},
   "outputs": [
    {
     "data": {
      "text/plain": [
       "82"
      ]
     },
     "execution_count": 8,
     "metadata": {},
     "output_type": "execute_result"
    }
   ],
   "source": [
    "x=np.array([1,2,7])\n",
    "y=np.array([3,8,9])\n",
    "np.dot(x,y)"
   ]
  },
  {
   "cell_type": "code",
   "execution_count": 10,
   "id": "aea2dc31",
   "metadata": {},
   "outputs": [
    {
     "data": {
      "text/plain": [
       "array([[77, 92],\n",
       "       [94, 88]])"
      ]
     },
     "execution_count": 10,
     "metadata": {},
     "output_type": "execute_result"
    }
   ],
   "source": [
    "a=np.array([[7,9],[5,12]])\n",
    "b=np.array(([2,8],[7,4]))\n",
    "np.dot(a,b)"
   ]
  },
  {
   "cell_type": "code",
   "execution_count": 11,
   "id": "55c42dce",
   "metadata": {},
   "outputs": [
    {
     "data": {
      "text/plain": [
       "array([[140, 146],\n",
       "       [320, 335]])"
      ]
     },
     "execution_count": 11,
     "metadata": {},
     "output_type": "execute_result"
    }
   ],
   "source": [
    "a=np.array([[1,2,3],[4,5,6]])\n",
    "b=np.array(([10,11],[20,21],[30,31]))\n",
    "np.dot(a,b)"
   ]
  },
  {
   "cell_type": "code",
   "execution_count": 13,
   "id": "be6d4ebc",
   "metadata": {},
   "outputs": [
    {
     "data": {
      "text/plain": [
       "array([1.8, 2.4, 2.2, 2.4, 2.5, 2.3, 2.6, 2. , 2.2, 2.7])"
      ]
     },
     "execution_count": 13,
     "metadata": {},
     "output_type": "execute_result"
    }
   ],
   "source": [
    "a=np.array([1,8,2,6,3,8,5,5,5,5])\n",
    "b=np.array([17,16,20,18,22,15,21,15,17,22])\n",
    "(a+b)/10"
   ]
  },
  {
   "cell_type": "code",
   "execution_count": 16,
   "id": "e460dcea",
   "metadata": {},
   "outputs": [
    {
     "data": {
      "text/plain": [
       "array([35, 56, 77])"
      ]
     },
     "execution_count": 16,
     "metadata": {},
     "output_type": "execute_result"
    }
   ],
   "source": [
    "a=np.array([10,15,20])\n",
    "b=np.array([5,7,9])\n",
    "(a-b)*7"
   ]
  }
 ],
 "metadata": {
  "kernelspec": {
   "display_name": "Python 3 (ipykernel)",
   "language": "python",
   "name": "python3"
  },
  "language_info": {
   "codemirror_mode": {
    "name": "ipython",
    "version": 3
   },
   "file_extension": ".py",
   "mimetype": "text/x-python",
   "name": "python",
   "nbconvert_exporter": "python",
   "pygments_lexer": "ipython3",
   "version": "3.9.7"
  }
 },
 "nbformat": 4,
 "nbformat_minor": 5
}
