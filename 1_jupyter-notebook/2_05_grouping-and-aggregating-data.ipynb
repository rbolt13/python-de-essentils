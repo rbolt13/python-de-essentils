{
 "cells": [
  {
   "cell_type": "markdown",
   "id": "3e8fba54",
   "metadata": {},
   "source": [
    "# Chapter 2 - Data Preparation Basics\n",
    "## Segment 5 - Grouping and data aggregation"
   ]
  },
  {
   "cell_type": "code",
   "execution_count": 1,
   "id": "660ef397",
   "metadata": {},
   "outputs": [],
   "source": [
    "import numpy as np\n",
    "import pandas as pd\n",
    "from pandas import Series, DataFrame"
   ]
  },
  {
   "cell_type": "markdown",
   "id": "de1812da",
   "metadata": {},
   "source": [
    "### Grouping data by column index"
   ]
  },
  {
   "cell_type": "code",
   "execution_count": null,
   "id": "cdc1e60c",
   "metadata": {},
   "outputs": [],
   "source": [
    "#\n",
    "address = 'C:/Users/'"
   ]
  }
 ],
 "metadata": {
  "kernelspec": {
   "display_name": "Python 3 (ipykernel)",
   "language": "python",
   "name": "python3"
  },
  "language_info": {
   "codemirror_mode": {
    "name": "ipython",
    "version": 3
   },
   "file_extension": ".py",
   "mimetype": "text/x-python",
   "name": "python",
   "nbconvert_exporter": "python",
   "pygments_lexer": "ipython3",
   "version": "3.9.7"
  }
 },
 "nbformat": 4,
 "nbformat_minor": 5
}
